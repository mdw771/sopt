{
 "cells": [
  {
   "cell_type": "code",
   "execution_count": 28,
   "metadata": {},
   "outputs": [],
   "source": [
    "import numpy as np\n",
    "import skimage, skimage.transform, skimage.data\n",
    "from scipy.stats import circmean"
   ]
  },
  {
   "cell_type": "code",
   "execution_count": 46,
   "metadata": {},
   "outputs": [],
   "source": [
    "def getSampleObj(npix=256, mod_range=1, phase_range=np.pi):\n",
    "    \"\"\"Creates a sample object using stock data from the skimage module.\n",
    "    \n",
    "    Parameters:\n",
    "    npix - \n",
    "    Number of pixels in each axis of the object\n",
    "    \n",
    "    mod_range - \n",
    "    Maximum value of the modulus for the object pixels.\n",
    "    \n",
    "    phase_range - \n",
    "    Maximum value of the phase for the object pixels.\n",
    "    \"\"\"\n",
    "    mod_img = skimage.img_as_float(skimage.data.camera())[::-1,::-1]\n",
    "    phase_img = skimage.img_as_float(skimage.data.immunohistochemistry()[:,:,0])[::-1,::-1]\n",
    "    mod = skimage.transform.resize(mod_img, [npix, npix], \n",
    "                                   mode='wrap', preserve_range=True) \n",
    "    phase = skimage.transform.resize(phase_img, [npix,npix],\n",
    "                                     mode='wrap', preserve_range=True)\n",
    "    phase = (phase - np.min(phase)) / (np.max(phase) - np.min(phase)) * phase_range\n",
    "    mod = (mod - np.min(mod)) / (np.max(mod) - np.min(mod)) * mod_range\n",
    "    return mod * np.exp(1j * phase)"
   ]
  }
 ],
 "metadata": {
  "kernelspec": {
   "display_name": "Python 3",
   "language": "python",
   "name": "python3"
  },
  "language_info": {
   "codemirror_mode": {
    "name": "ipython",
    "version": 3
   },
   "file_extension": ".py",
   "mimetype": "text/x-python",
   "name": "python",
   "nbconvert_exporter": "python",
   "pygments_lexer": "ipython3",
   "version": "3.6.8"
  }
 },
 "nbformat": 4,
 "nbformat_minor": 2
}
