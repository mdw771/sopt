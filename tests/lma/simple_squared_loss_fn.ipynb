{
 "cells": [
  {
   "cell_type": "code",
   "execution_count": null,
   "metadata": {},
   "outputs": [],
   "source": [
    "# This class tests whether the tensorflow and autograd versions give identical outputs for a simple least squared loss function"
   ]
  },
  {
   "cell_type": "code",
   "execution_count": 1,
   "metadata": {},
   "outputs": [],
   "source": [
    "from autograd import numpy as np\n",
    "import tensorflow as tf\n",
    "from matplotlib import pyplot as plt\n",
    "from optimizers.autograd.lma import LMA as LMAag\n",
    "from optimizers.tensorflow.lma import LMA as LMAtf"
   ]
  },
  {
   "cell_type": "code",
   "execution_count": 2,
   "metadata": {},
   "outputs": [],
   "source": [
    "%load_ext autoreload\n",
    "%autoreload 2"
   ]
  },
  {
   "cell_type": "code",
   "execution_count": 3,
   "metadata": {},
   "outputs": [],
   "source": [
    "z_true = np.random.randn(3,10).astype('float32')\n",
    "\n",
    "random_mat = np.random.randn(3,3)\n",
    "random_symmetric_mat = random_mat + random_mat.T\n",
    "evals, evecs = np.linalg.eig(random_symmetric_mat)\n",
    "affine_transform = evecs\n",
    "\n",
    "y_true = affine_transform @ z_true\n",
    "y_true_flat = y_true.flatten()"
   ]
  },
  {
   "cell_type": "code",
   "execution_count": 4,
   "metadata": {},
   "outputs": [],
   "source": [
    "def y_pred(z_flat):\n",
    "    z_arr = np.reshape(z_flat, (3, -1))\n",
    "    return (affine_transform @ z_arr).flatten()\n",
    "\n",
    "def loss_fn(y):\n",
    "    return 0.5 * np.sum((y - y_true_flat)**2)"
   ]
  },
  {
   "cell_type": "code",
   "execution_count": 5,
   "metadata": {},
   "outputs": [],
   "source": [
    "z_guess = np.random.randn(30).astype('float32')"
   ]
  },
  {
   "cell_type": "code",
   "execution_count": 6,
   "metadata": {},
   "outputs": [],
   "source": [
    "# Testing the autograd implementations"
   ]
  },
  {
   "cell_type": "code",
   "execution_count": 16,
   "metadata": {},
   "outputs": [
    {
     "data": {
      "text/plain": [
       "(6.773821263302893e-07, 5.6822931239912755)"
      ]
     },
     "execution_count": 16,
     "metadata": {},
     "output_type": "execute_result"
    }
   ],
   "source": [
    "np.finfo('float32').eps * np.linalg.norm(out1), np.linalg.norm(out1)"
   ]
  },
  {
   "cell_type": "code",
   "execution_count": 7,
   "metadata": {},
   "outputs": [],
   "source": [
    "ag_lma1 = LMAag(z_guess, y_pred, loss_fn, squared_loss=True, damping_factor=1., cg_tol=1e-5)\n",
    "ag_lma2 = LMAag(z_guess, y_pred, loss_fn, squared_loss=False, damping_factor=1., cg_tol=1e-5)"
   ]
  },
  {
   "cell_type": "code",
   "execution_count": 8,
   "metadata": {},
   "outputs": [
    {
     "name": "stdout",
     "output_type": "stream",
     "text": [
      "0 9.167177748686576 9.167177748686576\n",
      "1 2.2917944371716437 2.2917944371716437\n",
      "2 0.572948609292911 0.572948609292911\n",
      "3 0.14323715232322787 0.14323715232322787\n",
      "4 0.03580928808080695 0.03580928808080695\n",
      "5 0.008952322020201709 0.008952322020201709\n",
      "6 0.002238080505050427 0.002238080505050427\n",
      "7 0.0005595201262626123 0.0005595201262626123\n",
      "8 0.0001398800315656502 0.0001398800315656502\n",
      "9 3.497000789141121e-05 3.497000789141121e-05\n",
      "10 8.74250197285255e-06 8.74250197285255e-06\n",
      "11 2.18562549321346e-06 2.18562549321346e-06\n",
      "12 5.464063733034342e-07 5.464063733034342e-07\n",
      "Stopping iteration. Very low loss value: 5.464063733034342e-07\n",
      "Stopping iteration. Very low loss value: 5.464063733034342e-07\n",
      "13 5.464063733034342e-07 5.464063733034342e-07\n",
      "Stopping iteration. Very low loss value: 5.464063733034342e-07\n",
      "Stopping iteration. Very low loss value: 5.464063733034342e-07\n",
      "14 5.464063733034342e-07 5.464063733034342e-07\n",
      "Stopping iteration. Very low loss value: 5.464063733034342e-07\n",
      "Stopping iteration. Very low loss value: 5.464063733034342e-07\n",
      "15 5.464063733034342e-07 5.464063733034342e-07\n",
      "Stopping iteration. Very low loss value: 5.464063733034342e-07\n",
      "Stopping iteration. Very low loss value: 5.464063733034342e-07\n",
      "16 5.464063733034342e-07 5.464063733034342e-07\n",
      "Stopping iteration. Very low loss value: 5.464063733034342e-07\n",
      "Stopping iteration. Very low loss value: 5.464063733034342e-07\n",
      "17 5.464063733034342e-07 5.464063733034342e-07\n",
      "Stopping iteration. Very low loss value: 5.464063733034342e-07\n",
      "Stopping iteration. Very low loss value: 5.464063733034342e-07\n",
      "18 5.464063733034342e-07 5.464063733034342e-07\n",
      "Stopping iteration. Very low loss value: 5.464063733034342e-07\n",
      "Stopping iteration. Very low loss value: 5.464063733034342e-07\n",
      "19 5.464063733034342e-07 5.464063733034342e-07\n"
     ]
    }
   ],
   "source": [
    "ag_losses1 = []\n",
    "ag_losses2 = []\n",
    "for i in range(20):\n",
    "    out1 = ag_lma1.minimize()\n",
    "    out2 = ag_lma2.minimize()\n",
    "    print(i, loss_fn(y_pred(out1)), loss_fn(y_pred(out2)))\n",
    "    ag_losses1.append(loss_fn(y_pred(out1)))\n",
    "    ag_losses2.append(loss_fn(y_pred(out2)))"
   ]
  },
  {
   "cell_type": "code",
   "execution_count": 9,
   "metadata": {},
   "outputs": [],
   "source": [
    "# Tensorflow test"
   ]
  },
  {
   "cell_type": "code",
   "execution_count": 10,
   "metadata": {},
   "outputs": [
    {
     "name": "stdout",
     "output_type": "stream",
     "text": [
      "WARNING:tensorflow:case: An unordered dictionary of predicate/fn pairs was provided, but exclusive=False. The order of conditional tests is deterministic but not guaranteed.\n",
      "WARNING:tensorflow:case: An unordered dictionary of predicate/fn pairs was provided, but exclusive=False. The order of conditional tests is deterministic but not guaranteed.\n"
     ]
    }
   ],
   "source": [
    "tf.reset_default_graph()\n",
    "var1 = tf.get_variable('var1', dtype=tf.float32, initializer=z_guess)\n",
    "var2 = tf.get_variable('var2', dtype=tf.float32, initializer=z_guess)\n",
    "\n",
    "tf_y_true = tf.convert_to_tensor(y_true_flat, dtype='float32', name='y_true')\n",
    "tf_affine_transform = tf.convert_to_tensor(affine_transform, dtype='float32', name='affine_transform')\n",
    "\n",
    "def tf_y_pred(z):\n",
    "    return tf.reshape(tf_affine_transform @ tf.reshape(z, [3, -1]), [-1])\n",
    "def tf_loss(y_pred):\n",
    "    return 0.5 * tf.reduce_sum((tf_y_true - y_pred)**2)\n",
    "\n",
    "preds1 = tf_y_pred(var1)\n",
    "preds2 = tf_y_pred(var2)\n",
    "loss_tensor1 = tf_loss(preds1)\n",
    "loss_tensor2 = tf_loss(preds2)\n",
    "\n",
    "tf_lma1 = LMAtf(var1, tf_y_pred, tf_loss, name='opt1', squared_loss=True, cg_tol=1e-5)\n",
    "tf_lma2 = LMAtf(var2, tf_y_pred, tf_loss, name='opt2', squared_loss=False, cg_tol=1e-5)\n",
    "\n",
    "tf_lma1_min = tf_lma1.minimize()\n",
    "tf_lma2_min = tf_lma2.minimize()\n",
    "session = tf.Session()\n",
    "session.run(tf.global_variables_initializer())"
   ]
  },
  {
   "cell_type": "code",
   "execution_count": 11,
   "metadata": {},
   "outputs": [
    {
     "name": "stdout",
     "output_type": "stream",
     "text": [
      "0 9.167178 9.167178\n",
      "1 2.2917948 2.2917948\n",
      "2 0.57294863 0.57294863\n",
      "3 0.14323714 0.14323714\n",
      "4 0.035809275 0.035809275\n",
      "5 0.008952325 0.008952325\n",
      "6 0.00223808 0.00223808\n",
      "7 0.0005595188 0.0005595188\n",
      "8 0.00013988095 0.00013988095\n",
      "9 3.4968543e-05 3.4968543e-05\n",
      "10 8.743125e-06 8.743125e-06\n",
      "11 2.1854016e-06 2.1854016e-06\n",
      "12 5.462999e-07 5.462999e-07\n",
      "13 5.5469518e-14 5.5469518e-14\n",
      "14 5.4656095e-07 5.4656095e-07\n",
      "15 2.1857954e-06 2.1857954e-06\n",
      "16 5.4657676e-07 5.4657676e-07\n",
      "17 5.751649e-14 5.751649e-14\n",
      "18 5.462572e-07 5.462572e-07\n",
      "19 2.1852825e-06 2.1852825e-06\n",
      "20 5.4626366e-07 5.4626366e-07\n",
      "21 5.6628313e-14 5.6628313e-14\n",
      "22 5.465526e-07 5.465526e-07\n",
      "23 2.1856586e-06 2.1856586e-06\n",
      "24 5.465742e-07 5.465742e-07\n",
      "25 5.5629112e-14 5.5629112e-14\n",
      "26 5.4622944e-07 5.4622944e-07\n",
      "27 2.1851545e-06 2.1851545e-06\n",
      "28 5.4624263e-07 5.4624263e-07\n",
      "29 5.740547e-14 5.740547e-14\n",
      "30 5.4651014e-07 5.4651014e-07\n",
      "31 2.1855644e-06 2.1855644e-06\n",
      "32 5.4650866e-07 5.4650866e-07\n",
      "33 5.6628313e-14 5.6628313e-14\n",
      "34 5.462246e-07 5.462246e-07\n",
      "35 2.185112e-06 2.185112e-06\n",
      "36 5.462183e-07 5.462183e-07\n",
      "37 5.5296046e-14 5.5296046e-14\n",
      "38 5.465456e-07 5.465456e-07\n",
      "39 2.1855644e-06 2.1855644e-06\n",
      "40 5.4654754e-07 5.4654754e-07\n",
      "41 5.5296046e-14 5.5296046e-14\n",
      "42 5.4621637e-07 5.4621637e-07\n",
      "43 2.1850956e-06 2.1850956e-06\n",
      "44 5.462183e-07 5.462183e-07\n",
      "45 5.5296046e-14 5.5296046e-14\n",
      "46 5.4653935e-07 5.4653935e-07\n",
      "47 2.1855644e-06 2.1855644e-06\n",
      "48 5.4650866e-07 5.4650866e-07\n",
      "49 5.6628313e-14 5.6628313e-14\n"
     ]
    }
   ],
   "source": [
    "tf_losses1 = []\n",
    "tf_losses2 = []\n",
    "for i in range(50):\n",
    "    session.run([tf_lma1_min, tf_lma2_min])\n",
    "    lossval1, lossval2 = session.run([loss_tensor1, loss_tensor2])\n",
    "    print(i, lossval1, lossval2)\n",
    "    tf_losses1.append(lossval1)\n",
    "    tf_losses2.append(lossval2)\n",
    "    "
   ]
  },
  {
   "cell_type": "code",
   "execution_count": 268,
   "metadata": {},
   "outputs": [
    {
     "data": {
      "text/plain": [
       "([7.678560146004725,\n",
       "  1.9196400365011812,\n",
       "  0.4799100091252957,\n",
       "  0.11997750228132388,\n",
       "  0.029994375570330967],\n",
       " [7.6785603, 1.9196398, 0.47990993, 0.11997749, 0.029994376],\n",
       " [7.6785603, 1.9196398, 0.47990993, 0.11997749, 0.029994376])"
      ]
     },
     "execution_count": 268,
     "metadata": {},
     "output_type": "execute_result"
    }
   ],
   "source": [
    "ag_losses1[:5], tf_losses1[:5], tf_losses2[:5]"
   ]
  },
  {
   "cell_type": "code",
   "execution_count": 255,
   "metadata": {},
   "outputs": [
    {
     "data": {
      "image/png": "[encoded data removed]",
      "text/plain": [
       "<Figure size 432x288 with 1 Axes>"
      ]
     },
     "metadata": {
      "needs_background": "light"
     },
     "output_type": "display_data"
    }
   ],
   "source": [
    "# Any discrepancy here is because curveball requires a matrix inversion step\n",
    "# the matrix becomes singular fairly often\n",
    "# I tried calculating the pseudo inverse myself, but all the approach I tried for this \n",
    "# in tensorflow game solutions less stable and accurate than the numpy counterpart.\n",
    "\n",
    "plt.plot(ag_losses1, color='blue', ls=':', linewidth=5.0, alpha=0.8, label='ag_sq_true')\n",
    "plt.plot(ag_losses2, color='green', ls='--', linewidth=5.0, alpha=0.4, label='ag_sq_false')\n",
    "plt.plot(tf_losses1, color='red', ls=':', linewidth=5.0, alpha=0.8, label='tf_sq_true')\n",
    "plt.plot(tf_losses2, color='orange', ls='--', linewidth=5.0, alpha=0.4, label='tf_sq_false')\n",
    "plt.yscale('log')\n",
    "plt.legend(loc='best')\n",
    "plt.show()"
   ]
  },
  {
   "cell_type": "code",
   "execution_count": 257,
   "metadata": {},
   "outputs": [
    {
     "name": "stdout",
     "output_type": "stream",
     "text": [
      "3.52 ms ± 75.3 µs per loop (mean ± std. dev. of 7 runs, 100 loops each)\n"
     ]
    }
   ],
   "source": [
    "%timeit session.run(ct1_min)"
   ]
  },
  {
   "cell_type": "code",
   "execution_count": 252,
   "metadata": {},
   "outputs": [
    {
     "name": "stdout",
     "output_type": "stream",
     "text": [
      "3.85 ms ± 27.4 µs per loop (mean ± std. dev. of 7 runs, 100 loops each)\n"
     ]
    }
   ],
   "source": [
    "%timeit session.run(ct2_min)"
   ]
  },
  {
   "cell_type": "code",
   "execution_count": 126,
   "metadata": {},
   "outputs": [
    {
     "name": "stdout",
     "output_type": "stream",
     "text": [
      "3.64 ms ± 58.3 µs per loop (mean ± std. dev. of 7 runs, 100 loops each)\n"
     ]
    }
   ],
   "source": [
    "%timeit session.run(ct1_min)"
   ]
  },
  {
   "cell_type": "code",
   "execution_count": null,
   "metadata": {},
   "outputs": [],
   "source": []
  },
  {
   "cell_type": "code",
   "execution_count": 117,
   "metadata": {},
   "outputs": [
    {
     "name": "stdout",
     "output_type": "stream",
     "text": [
      "[71.8911417876325, 17.95480816826597, 4.484212217849196, 1.1199317211446433, 0.2797028773601594, 0.06985577613927432, 0.017446475724798835, 0.004357256221864029, 0.001088224469082103, 0.00027178399313923746] [287.56458, 287.56458, 287.56458, 287.56458, 287.56458, 287.56458, 287.56458, 287.56458, 287.56458, 287.56458]\n"
     ]
    }
   ],
   "source": [
    "print(ag_losses1[:10], tf_losses2[:10])"
   ]
  },
  {
   "cell_type": "code",
   "execution_count": 6,
   "metadata": {},
   "outputs": [],
   "source": [
    "from tensorflow.python.ops.gradients_impl import _hessian_vector_product"
   ]
  },
  {
   "cell_type": "code",
   "execution_count": 192,
   "metadata": {},
   "outputs": [],
   "source": [
    "tf.reset_default_graph()\n",
    "var1 = tf.get_variable('var1', dtype=tf.float32, initializer=z_guess)\n",
    "#var2 = tf.get_variable('var2', dtype=tf.float32, initializer=z_guess)\n",
    "\n",
    "tf_y_true = tf.convert_to_tensor(y_true_flat, dtype='float32', name='y_true')\n",
    "tf_affine_transform = tf.convert_to_tensor(affine_transform, dtype='float32', name='affine_transform')\n",
    "\n",
    "def tf_y_pred(z):\n",
    "    return tf.reshape(tf_affine_transform @ tf.reshape(z, [3, -1]), [-1])\n",
    "def tf_loss(y_pred):\n",
    "    return 0.5 * tf.reduce_sum((tf_y_true - y_pred)**2)\n",
    "\n",
    "preds1 = tf.reshape(tf_affine_transform @ tf.reshape(var1, [3, -1]), [-1])#tf_y_pred(var1)\n",
    "#preds2 = tf_y_pred(var2)\n",
    "loss_tensor1 = tf_loss(preds1)\n",
    "#loss_tensor2 = tf_loss(preds2)    "
   ]
  },
  {
   "cell_type": "code",
   "execution_count": 193,
   "metadata": {},
   "outputs": [],
   "source": [
    "dummy_var = tf.get_variable('dummy', dtype=tf.float32, initializer=tf.ones_like(var1))\n",
    "\n",
    "vjp = tf.gradients(preds1, var1, dummy_var)[0]\n",
    "jvp = tf.gradients(vjp, dummy_var, tf_y_true)[0]\n",
    "gvp = tf.gradients(preds1, var1, jvp)\n",
    "v = tf.ones_like(var1)\n",
    "hvp = _hessian_vector_product(ys=[loss_tensor1], xs=[var1], v=[v])\n",
    "hvp2 = tf.gradients(tf.gradients(loss_tensor1, var1)[0][None, :] @ v[:,None], var1, stop_gradients=v)[0]\n",
    "hvp3 = tf.gradients(tf.gradients(loss_tensor1, var1)[0][None, :] @ v[:,None], var1)[0]"
   ]
  },
  {
   "cell_type": "code",
   "execution_count": 194,
   "metadata": {},
   "outputs": [],
   "source": [
    "session = tf.Session()\n",
    "session.run(tf.global_variables_initializer())"
   ]
  },
  {
   "cell_type": "code",
   "execution_count": 195,
   "metadata": {},
   "outputs": [],
   "source": [
    "testout = session.run(vjp)"
   ]
  },
  {
   "cell_type": "code",
   "execution_count": 196,
   "metadata": {},
   "outputs": [],
   "source": [
    "out =session.run(hvp)"
   ]
  },
  {
   "cell_type": "code",
   "execution_count": 97,
   "metadata": {},
   "outputs": [
    {
     "name": "stdout",
     "output_type": "stream",
     "text": [
      "811 µs ± 109 µs per loop (mean ± std. dev. of 7 runs, 1000 loops each)\n"
     ]
    }
   ],
   "source": [
    "%timeit session.run(hvp)"
   ]
  },
  {
   "cell_type": "code",
   "execution_count": 98,
   "metadata": {},
   "outputs": [
    {
     "name": "stdout",
     "output_type": "stream",
     "text": [
      "899 µs ± 11.3 µs per loop (mean ± std. dev. of 7 runs, 1000 loops each)\n"
     ]
    }
   ],
   "source": [
    "%timeit session.run(hvp2)"
   ]
  },
  {
   "cell_type": "code",
   "execution_count": 99,
   "metadata": {},
   "outputs": [
    {
     "name": "stdout",
     "output_type": "stream",
     "text": [
      "578 µs ± 5.16 µs per loop (mean ± std. dev. of 7 runs, 1000 loops each)\n"
     ]
    }
   ],
   "source": [
    "%timeit session.run(gvp)"
   ]
  },
  {
   "cell_type": "code",
   "execution_count": null,
   "metadata": {},
   "outputs": [],
   "source": []
  }
 ],
 "metadata": {
  "kernelspec": {
   "display_name": "Python 3",
   "language": "python",
   "name": "python3"
  },
  "language_info": {
   "codemirror_mode": {
    "name": "ipython",
    "version": 3
   },
   "file_extension": ".py",
   "mimetype": "text/x-python",
   "name": "python",
   "nbconvert_exporter": "python",
   "pygments_lexer": "ipython3",
   "version": "3.6.8"
  }
 },
 "nbformat": 4,
 "nbformat_minor": 2
}
