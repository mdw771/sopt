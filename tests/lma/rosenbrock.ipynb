{
 "cells": [
  {
   "cell_type": "code",
   "execution_count": 1,
   "metadata": {},
   "outputs": [],
   "source": [
    "# This class only tests whether tensorflow and autograd both calculate the hessian-vector-products identically."
   ]
  },
  {
   "cell_type": "code",
   "execution_count": 2,
   "metadata": {},
   "outputs": [],
   "source": [
    "from autograd import numpy as np\n",
    "import tensorflow as tf\n",
    "from matplotlib import pyplot as plt\n",
    "from optimizers.autograd.lma import LMA as LMAag\n",
    "from optimizers.tensorflow.lma import LMA as LMAtf"
   ]
  },
  {
   "cell_type": "code",
   "execution_count": 3,
   "metadata": {},
   "outputs": [],
   "source": [
    "%load_ext autoreload\n",
    "%autoreload 2"
   ]
  },
  {
   "cell_type": "code",
   "execution_count": 4,
   "metadata": {},
   "outputs": [],
   "source": [
    "def rosenbrock(x):\n",
    "    x_reshaped = np.reshape(x, [2, -1])\n",
    "    return np.sum(100*(x_reshaped[1] - x_reshaped[0]**2)**2 + (1 - x_reshaped[0])**2)"
   ]
  },
  {
   "cell_type": "code",
   "execution_count": 5,
   "metadata": {},
   "outputs": [],
   "source": [
    "x_fn = lambda z: z\n",
    "z_init = np.zeros(10)"
   ]
  },
  {
   "cell_type": "code",
   "execution_count": 6,
   "metadata": {},
   "outputs": [],
   "source": [
    "# Autograd\n",
    "lma_ag = LMAag(z_init, x_fn, rosenbrock, squared_loss=False, cg_tol=1e-5, max_cg_iter=20)"
   ]
  },
  {
   "cell_type": "code",
   "execution_count": 7,
   "metadata": {},
   "outputs": [
    {
     "name": "stdout",
     "output_type": "stream",
     "text": [
      "4.076963604450884\n",
      "0.6510886357552026\n",
      "0.2189938396265485\n",
      "0.0886051407969368\n",
      "0.039006036910478756\n",
      "0.01798930823209718\n",
      "0.008533942718984886\n",
      "0.004122182552206707\n",
      "0.002015092060651396\n",
      "0.0009930534559208812\n"
     ]
    }
   ],
   "source": [
    "ag_losses = []\n",
    "for i in range(100):\n",
    "    out = lma_ag.minimize()\n",
    "    lossval = rosenbrock(x_fn(out))\n",
    "    ag_losses.append(lossval)\n",
    "    if i % 10 == 0: print(lossval)"
   ]
  },
  {
   "cell_type": "code",
   "execution_count": 8,
   "metadata": {},
   "outputs": [
    {
     "data": {
      "text/plain": [
       "array([0.98973418, 0.98973418, 0.98973418, 0.98973418, 0.98973418,\n",
       "       0.97953229, 0.97953229, 0.97953229, 0.97953229, 0.97953229])"
      ]
     },
     "execution_count": 8,
     "metadata": {},
     "output_type": "execute_result"
    }
   ],
   "source": [
    "out"
   ]
  },
  {
   "cell_type": "code",
   "execution_count": 9,
   "metadata": {},
   "outputs": [
    {
     "name": "stdout",
     "output_type": "stream",
     "text": [
      "WARNING:tensorflow:case: An unordered dictionary of predicate/fn pairs was provided, but exclusive=False. The order of conditional tests is deterministic but not guaranteed.\n"
     ]
    }
   ],
   "source": [
    "# Tensorflow\n",
    "tf.reset_default_graph()\n",
    "tf_var = tf.Variable(z_init, dtype='float32')\n",
    "tf_x_fn = lambda x: tf.identity(x)\n",
    "tf_x_fn_tensor = tf_x_fn(tf_var)\n",
    "\n",
    "def tf_rosenbrock(x):\n",
    "    x_reshaped = tf.reshape(x, [2, -1])\n",
    "    return tf.reduce_sum(100*(x_reshaped[1] - x_reshaped[0]**2)**2 + (1 - x_reshaped[0])**2)\n",
    "\n",
    "tf_rosenbrock_tensor = tf_rosenbrock(tf_x_fn_tensor)\n",
    "\n",
    "lma_tf = LMAtf(tf_var, tf_x_fn, tf_rosenbrock, name='ros', squared_loss=False, cg_tol=1e-5, max_cg_iter=20)\n",
    "minimizer = lma_tf.minimize()\n",
    "\n",
    "session = tf.Session()\n",
    "session.run(tf.global_variables_initializer())"
   ]
  },
  {
   "cell_type": "code",
   "execution_count": 10,
   "metadata": {},
   "outputs": [],
   "source": [
    "tf_losses = []\n",
    "for i in range(100):\n",
    "    session.run(minimizer)\n",
    "    lossval = session.run(tf_rosenbrock_tensor)\n",
    "    #session.run(damping_update, feed_dict={placeholder:lossval})\n",
    "    tf_losses.append(lossval)"
   ]
  },
  {
   "cell_type": "code",
   "execution_count": 12,
   "metadata": {},
   "outputs": [
    {
     "data": {
      "text/plain": [
       "([4.0769634, 2.8182025, 2.2718801, 1.8757492, 1.5666525],\n",
       " [4.076963604450884,\n",
       "  2.818201842449017,\n",
       "  2.2718799276233637,\n",
       "  1.8757491522782797,\n",
       "  1.5666520357620841])"
      ]
     },
     "execution_count": 12,
     "metadata": {},
     "output_type": "execute_result"
    }
   ],
   "source": [
    "tf_losses[:5], ag_losses[:5]"
   ]
  },
  {
   "cell_type": "code",
   "execution_count": 41,
   "metadata": {},
   "outputs": [
    {
     "data": {
      "image/png": "[encoded data removed]",
      "text/plain": [
       "<Figure size 432x288 with 1 Axes>"
      ]
     },
     "metadata": {
      "needs_background": "light"
     },
     "output_type": "display_data"
    }
   ],
   "source": [
    "# The discrepancy here is because curveball requires a matrix inversion step\n",
    "# the matrix becomes singular fairly often\n",
    "# I tried calculating the pseudo inverse myself, but all the approach I tried for this \n",
    "# in tensorflow game solutions less stable and accurate than the numpy counterpart.\n",
    "plt.plot(ag_losses, color='blue', ls=':', linewidth=5.0, alpha=0.8, label='ag')\n",
    "plt.plot(tf_losses, color='red', ls='--', linewidth=5.0, alpha=0.4, label='tf')\n",
    "plt.yscale('log')\n",
    "plt.legend(loc='best')\n",
    "plt.show()"
   ]
  },
  {
   "cell_type": "code",
   "execution_count": 42,
   "metadata": {},
   "outputs": [
    {
     "data": {
      "text/plain": [
       "11.390625"
      ]
     },
     "execution_count": 42,
     "metadata": {},
     "output_type": "execute_result"
    }
   ],
   "source": [
    "# Solution is all ones\n",
    "session.run(lma_tf._damping_factor)"
   ]
  },
  {
   "cell_type": "code",
   "execution_count": 43,
   "metadata": {},
   "outputs": [
    {
     "data": {
      "text/plain": [
       "11.390625"
      ]
     },
     "execution_count": 43,
     "metadata": {},
     "output_type": "execute_result"
    }
   ],
   "source": [
    "lma_ag._damping_factor"
   ]
  },
  {
   "cell_type": "code",
   "execution_count": null,
   "metadata": {},
   "outputs": [],
   "source": []
  }
 ],
 "metadata": {
  "kernelspec": {
   "display_name": "Python 3",
   "language": "python",
   "name": "python3"
  },
  "language_info": {
   "codemirror_mode": {
    "name": "ipython",
    "version": 3
   },
   "file_extension": ".py",
   "mimetype": "text/x-python",
   "name": "python",
   "nbconvert_exporter": "python",
   "pygments_lexer": "ipython3",
   "version": "3.6.8"
  }
 },
 "nbformat": 4,
 "nbformat_minor": 2
}
