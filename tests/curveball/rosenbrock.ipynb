{
 "cells": [
  {
   "cell_type": "code",
   "execution_count": 1,
   "metadata": {},
   "outputs": [],
   "source": [
    "# This class only tests whether tensorflow and autograd both calculate the hessian-vector-products identically."
   ]
  },
  {
   "cell_type": "code",
   "execution_count": 1,
   "metadata": {},
   "outputs": [],
   "source": [
    "from autograd import numpy as np\n",
    "import tensorflow as tf\n",
    "from matplotlib import pyplot as plt\n",
    "from optimizers.autograd.curveball import Curveball as Cag\n",
    "from optimizers.tensorflow.curveball import Curveball as Cat"
   ]
  },
  {
   "cell_type": "code",
   "execution_count": 3,
   "metadata": {},
   "outputs": [],
   "source": [
    "%load_ext autoreload\n",
    "%autoreload 2"
   ]
  },
  {
   "cell_type": "code",
   "execution_count": 4,
   "metadata": {},
   "outputs": [],
   "source": [
    "def rosenbrock(x):\n",
    "    x_reshaped = np.reshape(x, [2, -1])\n",
    "    return np.sum(100*(x_reshaped[1] - x_reshaped[0]**2)**2 + (1 - x_reshaped[0])**2)"
   ]
  },
  {
   "cell_type": "code",
   "execution_count": 5,
   "metadata": {},
   "outputs": [],
   "source": [
    "x_fn = lambda z: z\n",
    "z_init = np.zeros(10)"
   ]
  },
  {
   "cell_type": "code",
   "execution_count": 6,
   "metadata": {},
   "outputs": [],
   "source": [
    "# Autograd\n",
    "cball_ag = Cag(z_init, x_fn, rosenbrock, squared_loss=False)"
   ]
  },
  {
   "cell_type": "code",
   "execution_count": 7,
   "metadata": {},
   "outputs": [],
   "source": [
    "ag_losses = []\n",
    "for i in range(30):\n",
    "    out = cball_ag.minimize()\n",
    "    lossval = rosenbrock(x_fn(out))\n",
    "    ag_losses.append(lossval)"
   ]
  },
  {
   "cell_type": "code",
   "execution_count": 8,
   "metadata": {},
   "outputs": [
    {
     "name": "stdout",
     "output_type": "stream",
     "text": [
      "WARNING:tensorflow:case: An unordered dictionary of predicate/fn pairs was provided, but exclusive=False. The order of conditional tests is deterministic but not guaranteed.\n"
     ]
    }
   ],
   "source": [
    "# Tensorflow\n",
    "tf.reset_default_graph()\n",
    "tf_var = tf.Variable(z_init, dtype='float32')\n",
    "tf_x_fn = tf.identity(tf_var)\n",
    "\n",
    "tf_x_reshaped = tf.reshape(tf_x_fn, [2, -1])\n",
    "tf_rosenbrock = tf.reduce_sum(100*(tf_x_reshaped[1] - tf_x_reshaped[0]**2)**2 + (1 - tf_x_reshaped[0])**2)\n",
    "\n",
    "cball_tf = Cat(input_var=tf_var, loss_fn_input=tf_x_fn, loss_fn_tensor=tf_rosenbrock, name='ros', squared_loss=False)\n",
    "minimizer = cball_tf.minimize()\n",
    "damping_update = cball_tf.damping_update()\n",
    "placeholder = cball_tf.loss_after_update_placeholder\n",
    "\n",
    "session = tf.Session()\n",
    "session.run(tf.global_variables_initializer())"
   ]
  },
  {
   "cell_type": "code",
   "execution_count": 9,
   "metadata": {},
   "outputs": [],
   "source": [
    "tf_losses = []\n",
    "for i in range(30):\n",
    "    session.run(minimizer)\n",
    "    lossval = session.run(tf_rosenbrock)\n",
    "    session.run(damping_update, feed_dict={placeholder:lossval})\n",
    "    tf_losses.append(lossval)"
   ]
  },
  {
   "cell_type": "code",
   "execution_count": 10,
   "metadata": {},
   "outputs": [
    {
     "data": {
      "image/png": "[encoded data removed]",
      "text/plain": [
       "<Figure size 432x288 with 1 Axes>"
      ]
     },
     "metadata": {
      "needs_background": "light"
     },
     "output_type": "display_data"
    }
   ],
   "source": [
    "plt.plot(np.log(tf_losses), color='green', ls='--')\n",
    "plt.plot(np.log(ag_losses), color='red', ls=':')\n",
    "plt.show()"
   ]
  },
  {
   "cell_type": "code",
   "execution_count": 11,
   "metadata": {},
   "outputs": [
    {
     "name": "stdout",
     "output_type": "stream",
     "text": [
      "[0.99997301 0.99997301 0.99997301 0.99997301 0.99997301 0.99994591\n",
      " 0.99994591 0.99994591 0.99994591 0.99994591]\n"
     ]
    }
   ],
   "source": [
    "print(out)"
   ]
  },
  {
   "cell_type": "code",
   "execution_count": null,
   "metadata": {},
   "outputs": [],
   "source": []
  }
 ],
 "metadata": {
  "kernelspec": {
   "display_name": "Python 3",
   "language": "python",
   "name": "python3"
  },
  "language_info": {
   "codemirror_mode": {
    "name": "ipython",
    "version": 3
   },
   "file_extension": ".py",
   "mimetype": "text/x-python",
   "name": "python",
   "nbconvert_exporter": "python",
   "pygments_lexer": "ipython3",
   "version": "3.6.8"
  }
 },
 "nbformat": 4,
 "nbformat_minor": 2
}
