{
 "cells": [
  {
   "cell_type": "code",
   "execution_count": 1,
   "metadata": {},
   "outputs": [],
   "source": [
    "from tensorflow.python.framework import graph_util\n",
    "from tensorflow.python.framework import ops\n",
    "import benchmarks.ops.tensorflow.flops_registry_custom\n",
    "import tensorflow as tf\n",
    "from typing import List"
   ]
  },
  {
   "cell_type": "code",
   "execution_count": null,
   "metadata": {},
   "outputs": [],
   "source": [
    "def get_flops_for_node_list(g: tf.Graph,\n",
    "                            nodes_list: List[tf.NodeDef]) -> int:\n",
    "    total_flops = 0\n",
    "    for node in nodes_list:\n",
    "        try:\n",
    "            stats = ops.get_stats_for_node_def(g, node, 'flops')\n",
    "        except ValueError:\n",
    "            stats = None\n",
    "        if stats and stats.value:\n",
    "            total_flops += int(stats.value)\n",
    "    return total_flops\n",
    "        "
   ]
  },
  {
   "cell_type": "code",
   "execution_count": null,
   "metadata": {},
   "outputs": [],
   "source": [
    "def get_flops_for_sub_graph(g: tf.Graph,\n",
    "                            sub_graph_def: tf.GraphDef) -> int:\n",
    "    warning = \"\"\"\n",
    "    WARNING: \n",
    "    For gradient calculations, I don't think the number generated here \n",
    "    reflects the true cost of the grad calculation.\n",
    "    This gives a lower number than what I think should be the actual cost.\n",
    "    \"\"\"\n",
    "    print(warning)\n",
    "    return get_flops_for_node_list(g, sub_graph_def.node)"
   ]
  }
 ],
 "metadata": {
  "kernelspec": {
   "display_name": "Python 3",
   "language": "python",
   "name": "python3"
  },
  "language_info": {
   "codemirror_mode": {
    "name": "ipython",
    "version": 3
   },
   "file_extension": ".py",
   "mimetype": "text/x-python",
   "name": "python",
   "nbconvert_exporter": "python",
   "pygments_lexer": "ipython3",
   "version": "3.6.8"
  }
 },
 "nbformat": 4,
 "nbformat_minor": 2
}
