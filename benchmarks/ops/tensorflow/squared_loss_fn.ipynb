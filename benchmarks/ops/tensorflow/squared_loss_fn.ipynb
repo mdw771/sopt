{
 "cells": [
  {
   "cell_type": "code",
   "execution_count": 1,
   "metadata": {},
   "outputs": [],
   "source": [
    "import numpy as np\n",
    "import tensorflow as tf\n",
    "from matplotlib import pyplot as plt\n",
    "from tensorflow.python.framework import graph_util\n",
    "from tensorflow.python.ops.gradients_impl import _hessian_vector_product\n",
    "from optimizers.tensorflow.curveball import Curveball\n",
    "from optimizers.tensorflow.lma import LMA"
   ]
  },
  {
   "cell_type": "code",
   "execution_count": 2,
   "metadata": {},
   "outputs": [],
   "source": [
    "%load_ext autoreload\n",
    "%autoreload 2"
   ]
  },
  {
   "cell_type": "code",
   "execution_count": 3,
   "metadata": {},
   "outputs": [],
   "source": [
    "def load_pb(pb):\n",
    "    with tf.gfile.GFile(pb, \"rb\") as f:\n",
    "        graph_def = tf.GraphDef()\n",
    "        graph_def.ParseFromString(f.read())\n",
    "    with tf.Graph().as_default() as graph:\n",
    "        tf.import_graph_def(graph_def, name='')\n",
    "        return graph"
   ]
  },
  {
   "cell_type": "code",
   "execution_count": 4,
   "metadata": {},
   "outputs": [],
   "source": [
    "def tf_y_pred(z, tf_affine_transform):\n",
    "    return tf.reshape(tf_affine_transform @ tf.reshape(z, [3, -1]), [-1])\n",
    "def tf_loss(y_pred, tf_y_true):\n",
    "    return 0.5 * tf.reduce_sum((tf_y_true - y_pred)**2)"
   ]
  },
  {
   "cell_type": "code",
   "execution_count": 5,
   "metadata": {},
   "outputs": [],
   "source": [
    "z_true = np.random.randn(3,100).astype('float32')\n",
    "\n",
    "random_mat = np.random.randn(3,3)\n",
    "random_symmetric_mat = random_mat + random_mat.T\n",
    "evals, evecs = np.linalg.eig(random_symmetric_mat)\n",
    "affine_transform = evecs\n",
    "\n",
    "y_true = affine_transform @ z_true\n",
    "y_true_flat = y_true.flatten()\n",
    "\n",
    "z_guess = np.random.randn(300).astype('float32')"
   ]
  },
  {
   "cell_type": "code",
   "execution_count": 6,
   "metadata": {},
   "outputs": [],
   "source": [
    "# Reference:\n",
    "# https://stackoverflow.com/questions/45085938/tensorflow-is-there-a-way-to-measure-flops-for-a-model\n",
    "\n",
    "# See more documentation at \n",
    "# https://github.com/tensorflow/tensorflow/blob/master/tensorflow/core/profiler/g3doc/profile_model_architecture.md\n",
    "\n"
   ]
  },
  {
   "cell_type": "code",
   "execution_count": 7,
   "metadata": {},
   "outputs": [
    {
     "name": "stdout",
     "output_type": "stream",
     "text": [
      "2700\n"
     ]
    }
   ],
   "source": [
    "# Forward model\n",
    "tf.reset_default_graph()\n",
    "var = tf.get_variable('var', dtype=tf.float32, initializer=z_guess)\n",
    "\n",
    "tf_y_true = tf.convert_to_tensor(y_true_flat, dtype='float32', name='y_true')\n",
    "tf_affine_transform = tf.convert_to_tensor(affine_transform, dtype='float32', name='affine_transform')\n",
    "\n",
    "preds = tf_y_pred(var, tf_affine_transform)\n",
    "loss_tensor = tf_loss(preds, tf_y_true)    \n",
    "\n",
    "session = tf.Session()\n",
    "session.run(tf.global_variables_initializer())\n",
    "\n",
    "run_meta = tf.RunMetadata()\n",
    "opts = tf.profiler.ProfileOptionBuilder.float_operation()    \n",
    "flops_fwd = tf.profiler.profile(run_meta=run_meta, cmd='graph', options=opts) \n",
    "print(flops_fwd.total_float_ops)"
   ]
  },
  {
   "cell_type": "code",
   "execution_count": 8,
   "metadata": {},
   "outputs": [
    {
     "name": "stdout",
     "output_type": "stream",
     "text": [
      "9002\n"
     ]
    }
   ],
   "source": [
    "# Forward model + gradients\n",
    "tf.reset_default_graph()\n",
    "var = tf.get_variable('var', dtype=tf.float32, initializer=z_guess)\n",
    "\n",
    "tf_y_true = tf.convert_to_tensor(y_true_flat, dtype='float32', name='y_true')\n",
    "tf_affine_transform = tf.convert_to_tensor(affine_transform, dtype='float32', name='affine_transform')\n",
    "\n",
    "preds = tf_y_pred(var, tf_affine_transform)\n",
    "loss_tensor = tf_loss(preds, tf_y_true)  \n",
    "\n",
    "gradients = tf.gradients([loss_tensor], [var])\n",
    "\n",
    "session = tf.Session()\n",
    "session.run(tf.global_variables_initializer())\n",
    "\n",
    "run_meta = tf.RunMetadata()\n",
    "opts = tf.profiler.ProfileOptionBuilder.float_operation()    \n",
    "flops_fwd_grad = tf.profiler.profile(run_meta=run_meta, cmd='graph', options=opts) \n",
    "print(flops_fwd_grad.total_float_ops)"
   ]
  },
  {
   "cell_type": "code",
   "execution_count": 9,
   "metadata": {},
   "outputs": [
    {
     "name": "stdout",
     "output_type": "stream",
     "text": [
      "13500\n"
     ]
    }
   ],
   "source": [
    "# gauss-newton vector product\n",
    "tf.reset_default_graph()\n",
    "var = tf.get_variable('var', dtype=tf.float32, initializer=z_guess)\n",
    "z = tf.get_variable('z', dtype=tf.float32, initializer=tf.zeros_like(z_guess, dtype='float32'))\n",
    "dummy_var = tf.get_variable('dummy', dtype=tf.float32, initializer=tf.zeros_like(y_true_flat, dtype='float32'))\n",
    "\n",
    "tf_y_true = tf.convert_to_tensor(y_true_flat, dtype='float32', name='y_true')\n",
    "tf_affine_transform = tf.convert_to_tensor(affine_transform, dtype='float32', name='affine_transform')\n",
    "\n",
    "preds = tf_y_pred(var, tf_affine_transform)\n",
    "loss_tensor = tf_loss(preds, tf_y_true)  \n",
    "\n",
    "#jloss = tf.gradients(loss_tensor, preds)\n",
    "\n",
    "vjp_dummy = tf.gradients(preds, var,dummy_var)[0]\n",
    "jvpz = tf.gradients(vjp_dummy, dummy_var, z)[0]\n",
    "\n",
    "gvpz = tf.gradients(preds, var, jvpz)[0]\n",
    "\n",
    "session = tf.Session()\n",
    "session.run(tf.global_variables_initializer())\n",
    "\n",
    "run_meta = tf.RunMetadata()\n",
    "opts = tf.profiler.ProfileOptionBuilder.float_operation()    \n",
    "flops_gvp = tf.profiler.profile(run_meta=run_meta, cmd='graph', options=opts) \n",
    "print(flops_gvp.total_float_ops)"
   ]
  },
  {
   "cell_type": "code",
   "execution_count": 10,
   "metadata": {},
   "outputs": [
    {
     "name": "stdout",
     "output_type": "stream",
     "text": [
      "20703\n"
     ]
    }
   ],
   "source": [
    "# generalized gauss-newton vector product (with hessian-vector product)\n",
    "tf.reset_default_graph()\n",
    "var = tf.get_variable('var', dtype=tf.float32, initializer=z_guess)\n",
    "z = tf.get_variable('z', dtype=tf.float32, initializer=tf.zeros_like(z_guess, dtype='float32'))\n",
    "dummy_var = tf.get_variable('dummy', dtype=tf.float32, initializer=tf.zeros_like(y_true_flat, dtype='float32'))\n",
    "\n",
    "tf_y_true = tf.convert_to_tensor(y_true_flat, dtype='float32', name='y_true')\n",
    "tf_affine_transform = tf.convert_to_tensor(affine_transform, dtype='float32', name='affine_transform')\n",
    "\n",
    "preds = tf_y_pred(var, tf_affine_transform)\n",
    "loss_tensor = tf_loss(preds, tf_y_true)  \n",
    "\n",
    "#jloss = tf.gradients(loss_tensor, preds)\n",
    "\n",
    "vjp_dummy = tf.gradients(preds, var,dummy_var)[0]\n",
    "jvpz = tf.gradients(vjp_dummy, dummy_var, z)[0]\n",
    "\n",
    "hjvpz = _hessian_vector_product([loss_tensor], [preds], [jvpz])\n",
    "\n",
    "gvpz = tf.gradients(preds, var, hjvpz)[0]\n",
    "\n",
    "session = tf.Session()\n",
    "session.run(tf.global_variables_initializer())\n",
    "\n",
    "run_meta = tf.RunMetadata()\n",
    "opts = tf.profiler.ProfileOptionBuilder.float_operation()    \n",
    "flops_gvp = tf.profiler.profile(run_meta=run_meta, cmd='graph', options=opts) \n",
    "print(flops_gvp.total_float_ops)"
   ]
  },
  {
   "cell_type": "code",
   "execution_count": 18,
   "metadata": {},
   "outputs": [
    {
     "name": "stdout",
     "output_type": "stream",
     "text": [
      "29728\n"
     ]
    }
   ],
   "source": [
    "# curveball (without hessian-vector-product)\n",
    "tf.reset_default_graph()\n",
    "\n",
    "var = tf.get_variable('var', dtype=tf.float32, initializer=z_guess)\n",
    "\n",
    "tf_y_true = tf.convert_to_tensor(y_true_flat, dtype='float32', name='y_true')\n",
    "tf_affine_transform = tf.convert_to_tensor(affine_transform, dtype='float32', name='affine_transform')\n",
    "\n",
    "preds_fn = lambda x: tf_y_pred(x, tf_affine_transform)\n",
    "loss_fn = lambda x: tf_loss(x, tf_y_true)\n",
    "\n",
    "optimizer = Curveball(var, predictions_fn=preds_fn, loss_fn=loss_fn, squared_loss=True, name='opt')\n",
    "minimize_op = optimizer.minimize()\n",
    "\n",
    "session = tf.Session()\n",
    "\n",
    "session.run(tf.global_variables_initializer())\n",
    "\n",
    "run_meta = tf.RunMetadata()\n",
    "opts = tf.profiler.ProfileOptionBuilder.float_operation()    \n",
    "flops_gvp = tf.profiler.profile(run_meta=run_meta, cmd='graph', options=opts) \n",
    "print(flops_gvp.total_float_ops)"
   ]
  },
  {
   "cell_type": "code",
   "execution_count": 19,
   "metadata": {},
   "outputs": [
    {
     "name": "stdout",
     "output_type": "stream",
     "text": [
      "WARNING:tensorflow:It is important to monitor the loss value through the training process.If the loss value becomes too small (compared to machine accuracy?),then the optimizer is liable to get stuck in an infinite loop.\n",
      "38119\n"
     ]
    }
   ],
   "source": [
    "# LMA (without hessian-vector-product)\n",
    "tf.reset_default_graph()\n",
    "var = tf.get_variable('var', dtype=tf.float32, initializer=z_guess)\n",
    "\n",
    "tf_y_true = tf.convert_to_tensor(y_true_flat, dtype='float32', name='y_true')\n",
    "tf_affine_transform = tf.convert_to_tensor(affine_transform, dtype='float32', name='affine_transform')\n",
    "\n",
    "preds_fn = lambda x: tf_y_pred(x, tf_affine_transform)\n",
    "loss_fn = lambda x: tf_loss(x, tf_y_true)\n",
    "\n",
    "optimizer = LMA(var, predictions_fn=preds_fn, loss_fn=loss_fn, squared_loss=True, \n",
    "                name='opt', max_cg_iter=10)\n",
    "minimize_op = optimizer.minimize()\n",
    "\n",
    "session = tf.Session()\n",
    "\n",
    "session.run(tf.global_variables_initializer())\n",
    "\n",
    "run_meta = tf.RunMetadata()\n",
    "opts = tf.profiler.ProfileOptionBuilder.float_operation()    \n",
    "flops_gvp = tf.profiler.profile(run_meta=run_meta, cmd='graph', options=opts) \n",
    "print(flops_gvp.total_float_ops)"
   ]
  },
  {
   "cell_type": "code",
   "execution_count": null,
   "metadata": {},
   "outputs": [],
   "source": []
  }
 ],
 "metadata": {
  "kernelspec": {
   "display_name": "Python 3",
   "language": "python",
   "name": "python3"
  },
  "language_info": {
   "codemirror_mode": {
    "name": "ipython",
    "version": 3
   },
   "file_extension": ".py",
   "mimetype": "text/x-python",
   "name": "python",
   "nbconvert_exporter": "python",
   "pygments_lexer": "ipython3",
   "version": "3.6.8"
  }
 },
 "nbformat": 4,
 "nbformat_minor": 2
}
